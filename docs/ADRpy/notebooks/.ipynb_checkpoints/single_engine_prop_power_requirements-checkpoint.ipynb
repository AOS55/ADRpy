{
 "cells": [
  {
   "cell_type": "markdown",
   "metadata": {},
   "source": [
    "# Constraint analysis of a single engine piston prop"
   ]
  },
  {
   "cell_type": "code",
   "execution_count": 1,
   "metadata": {
    "collapsed": true
   },
   "outputs": [],
   "source": [
    "import numpy as np\n",
    "import matplotlib.pyplot as plt\n",
    "from ADRpy import unitconversions as co\n",
    "from ADRpy import constraintanalysis as ca\n",
    "from ADRpy import atmospheres as at"
   ]
  },
  {
   "cell_type": "markdown",
   "metadata": {},
   "source": [
    "First, we set up a dictionary variable containing elements of the design brief. All of the requirements below refer to ISA standard day conditions (see the documentation for the ``Atmosphere`` class for how to instantiate other atmospheres). The dictionary entry ``cruisethrustfact`` defines the throttle setting expected to be used in cruise (1 = full throttle)."
   ]
  },
  {
   "cell_type": "code",
   "execution_count": 2,
   "metadata": {
    "collapsed": true
   },
   "outputs": [],
   "source": [
    "designbrief = {'rwyelevation_m':0, 'groundrun_m':313, # <- Take-off requirements\n",
    "               'stloadfactor': 1.5, 'turnalt_m': 1000, 'turnspeed_ktas': 100, # <- Turn requirements\n",
    "               'climbalt_m': 0, 'climbspeed_kias': 101, 'climbrate_fpm': 1398, # <- Climb requirements\n",
    "               'cruisealt_m': 3048, 'cruisespeed_ktas': 182, 'cruisethrustfact': 1.0, # <- Cruise requirements\n",
    "               'servceil_m': 6580, 'secclimbspd_kias': 92, # <- Service ceiling requirements\n",
    "               'vstallclean_kcas': 69} # <- Required clean stall speed"
   ]
  },
  {
   "cell_type": "markdown",
   "metadata": {},
   "source": [
    "Some constraints may not have to be satisfied at MTOW - ``wfract`` specifies the weight fraction corresponding to each constraint:"
   ]
  },
  {
   "cell_type": "code",
   "execution_count": 3,
   "metadata": {
    "collapsed": true
   },
   "outputs": [],
   "source": [
    "wfract = {'turn': 1.0, 'climb': 1.0, 'cruise': 0.853, 'servceil': 1.0}"
   ]
  },
  {
   "cell_type": "markdown",
   "metadata": {},
   "source": [
    "These fractions, as well as some basic design parameters are specified in the ``designdefinition`` dictionary: aspect ratio, leading edge sweep, sweep of the maximum thickness line of the wing and the engine bypass ratio ('-1' indicates 'piston engine')."
   ]
  },
  {
   "cell_type": "code",
   "execution_count": 4,
   "metadata": {
    "collapsed": true
   },
   "outputs": [],
   "source": [
    "designdefinition = {'aspectratio':10.12, 'sweep_le_deg':2, 'sweep_mt_deg':0, 'bpr':-1, 'weightfractions':wfract} "
   ]
  },
  {
   "cell_type": "markdown",
   "metadata": {},
   "source": [
    "We next define some design performance estimates, e.g., the propeller efficiencies ($\\eta_\\mathrm{prop}$) corresponding to the various constraints, drag and lift coefficients and the wheel rolling resistance coefficient:"
   ]
  },
  {
   "cell_type": "code",
   "execution_count": 5,
   "metadata": {
    "collapsed": true
   },
   "outputs": [],
   "source": [
    "etap = {'take-off': 0.45, 'climb': 0.8, 'cruise': 0.85, 'turn': 0.85, 'servceil': 0.8}\n",
    "\n",
    "designperformance = {'CDTO':0.0414, 'CLTO':0.59, 'CLmaxTO':1.69, 'CLmaxclean': 1.45, 'mu_R':0.02, \n",
    "                     'CDminclean':0.0254, 'etaprop': etap}"
   ]
  },
  {
   "cell_type": "markdown",
   "metadata": {},
   "source": [
    "Initial estimate of the take-off weight:"
   ]
  },
  {
   "cell_type": "code",
   "execution_count": 6,
   "metadata": {
    "collapsed": true
   },
   "outputs": [],
   "source": [
    "TOW_kg = 1542.0"
   ]
  },
  {
   "cell_type": "markdown",
   "metadata": {},
   "source": [
    "Define the atmosphere in which the calculations are to be conducted - in this case the International Standard Atmosphere. Other atmospheres available in the ``Atmospheres`` class: off-standard ISAs, MIL-HDBK-310 and bespoke atmospheres."
   ]
  },
  {
   "cell_type": "code",
   "execution_count": 7,
   "metadata": {
    "collapsed": true
   },
   "outputs": [],
   "source": [
    "designatm = at.Atmosphere()"
   ]
  },
  {
   "cell_type": "markdown",
   "metadata": {},
   "source": [
    "We are now ready to instantiate the aircraft concept object:"
   ]
  },
  {
   "cell_type": "code",
   "execution_count": 8,
   "metadata": {
    "collapsed": true
   },
   "outputs": [],
   "source": [
    "concept = ca.AircraftConcept(designbrief, designdefinition, designperformance, designatm)"
   ]
  },
  {
   "cell_type": "markdown",
   "metadata": {},
   "source": [
    "We define a range of wing loadings for which we want to compute the required power:"
   ]
  },
  {
   "cell_type": "code",
   "execution_count": 9,
   "metadata": {
    "collapsed": true
   },
   "outputs": [],
   "source": [
    "wingloadinglist_pa = np.arange(700, 2500, 25)"
   ]
  },
  {
   "cell_type": "markdown",
   "metadata": {},
   "source": [
    "And the main event: we call the power calculation method, as well as the method for calculating the minimum area dictated by the stall requirement:"
   ]
  },
  {
   "cell_type": "code",
   "execution_count": 10,
   "metadata": {},
   "outputs": [
    {
     "ename": "KeyError",
     "evalue": "'liftoffspeed_mps'",
     "output_type": "error",
     "traceback": [
      "\u001b[0;31m---------------------------------------------------------------------------\u001b[0m",
      "\u001b[0;31mKeyError\u001b[0m                                  Traceback (most recent call last)",
      "\u001b[0;32m<ipython-input-10-d5afc953b3c8>\u001b[0m in \u001b[0;36m<module>\u001b[0;34m()\u001b[0m\n\u001b[0;32m----> 1\u001b[0;31m \u001b[0mpreq\u001b[0m \u001b[0;34m=\u001b[0m \u001b[0mconcept\u001b[0m\u001b[0;34m.\u001b[0m\u001b[0mpowerrequired\u001b[0m\u001b[0;34m(\u001b[0m\u001b[0mwingloadinglist_pa\u001b[0m\u001b[0;34m,\u001b[0m \u001b[0mTOW_kg\u001b[0m\u001b[0;34m)\u001b[0m\u001b[0;34m\u001b[0m\u001b[0;34m\u001b[0m\u001b[0m\n\u001b[0m\u001b[1;32m      2\u001b[0m \u001b[0;34m\u001b[0m\u001b[0m\n\u001b[1;32m      3\u001b[0m \u001b[0mSmin_m2\u001b[0m \u001b[0;34m=\u001b[0m \u001b[0mconcept\u001b[0m\u001b[0;34m.\u001b[0m\u001b[0msmincleanstall_m2\u001b[0m\u001b[0;34m(\u001b[0m\u001b[0mTOW_kg\u001b[0m\u001b[0;34m)\u001b[0m\u001b[0;34m\u001b[0m\u001b[0;34m\u001b[0m\u001b[0m\n",
      "\u001b[0;32m/Users/andrassobester/anaconda/lib/python3.6/site-packages/ADRpy/constraintanalysis.py\u001b[0m in \u001b[0;36mpowerrequired\u001b[0;34m(self, wingloadinglist_pa, tow_kg, feasibleonly)\u001b[0m\n\u001b[1;32m    917\u001b[0m         preq_hp = {\n\u001b[1;32m    918\u001b[0m             \u001b[0;34m'take-off'\u001b[0m\u001b[0;34m:\u001b[0m \u001b[0mp_to_hp\u001b[0m\u001b[0;34m,\u001b[0m\u001b[0;34m\u001b[0m\u001b[0;34m\u001b[0m\u001b[0m\n\u001b[0;32m--> 919\u001b[0;31m             \u001b[0;34m'liftoffspeed_mps'\u001b[0m\u001b[0;34m:\u001b[0m \u001b[0mtwreq\u001b[0m\u001b[0;34m[\u001b[0m\u001b[0;34m'liftoffspeed_mps'\u001b[0m\u001b[0;34m]\u001b[0m\u001b[0;34m,\u001b[0m\u001b[0;34m\u001b[0m\u001b[0;34m\u001b[0m\u001b[0m\n\u001b[0m\u001b[1;32m    920\u001b[0m             \u001b[0;34m'avspeed_mps'\u001b[0m\u001b[0;34m:\u001b[0m \u001b[0mtwreq\u001b[0m\u001b[0;34m[\u001b[0m\u001b[0;34m'avspeed_mps'\u001b[0m\u001b[0;34m]\u001b[0m\u001b[0;34m,\u001b[0m\u001b[0;34m\u001b[0m\u001b[0;34m\u001b[0m\u001b[0m\n\u001b[1;32m    921\u001b[0m             \u001b[0;34m'turn'\u001b[0m\u001b[0;34m:\u001b[0m \u001b[0mp_trn_hp\u001b[0m\u001b[0;34m,\u001b[0m\u001b[0;34m\u001b[0m\u001b[0;34m\u001b[0m\u001b[0m\n",
      "\u001b[0;31mKeyError\u001b[0m: 'liftoffspeed_mps'"
     ]
    }
   ],
   "source": [
    "preq = concept.powerrequired(wingloadinglist_pa, TOW_kg) \n",
    "\n",
    "Smin_m2 = concept.smincleanstall_m2(TOW_kg)"
   ]
  },
  {
   "cell_type": "markdown",
   "metadata": {},
   "source": [
    "We can now generate a plot of the various constraint curves in the power versus wing area space:"
   ]
  },
  {
   "cell_type": "code",
   "execution_count": null,
   "metadata": {},
   "outputs": [],
   "source": [
    "wingarea_m2 = co.kg2n(TOW_kg) / wingloadinglist_pa # x axis\n",
    "\n",
    "plt.rcParams[\"figure.figsize\"] = [10,7]\n",
    "plt.plot(wingarea_m2, preq['take-off'],  label = 'Take-off')\n",
    "plt.plot(wingarea_m2, preq['turn'], label = 'Turn')\n",
    "plt.plot(wingarea_m2, preq['climb'], label = 'Climb')\n",
    "plt.plot(wingarea_m2, preq['cruise'], label = 'Cruise')\n",
    "plt.plot(wingarea_m2, preq['servceil'], label = 'Service ceiling')\n",
    "combplot = plt.plot(wingarea_m2, preq['combined'], label = 'Combined')\n",
    "plt.setp(combplot, linewidth=4)\n",
    "stall_label = 'Clean stall at ' + str(designbrief['vstallclean_kcas']) + 'KCAS'\n",
    "plt.plot([Smin_m2, Smin_m2], [0, 1500], label = stall_label)\n",
    "legend = plt.legend(loc='upper left')\n",
    "plt.ylabel(\"Power required (HP)\")\n",
    "plt.xlabel(\"S (m$^2$)\")\n",
    "plt.title(\"Minimum SL power required (MTOW = \" + str(round(TOW_kg)) + \"kg)\")\n",
    "plt.xlim(6, 20)\n",
    "plt.ylim(100, 700)\n",
    "plt.grid(True)\n",
    "plt.text(14, 440, 'Feasible region')\n",
    "plt.show()"
   ]
  }
 ],
 "metadata": {
  "kernelspec": {
   "display_name": "Python 3",
   "language": "python",
   "name": "python3"
  },
  "language_info": {
   "codemirror_mode": {
    "name": "ipython",
    "version": 3
   },
   "file_extension": ".py",
   "mimetype": "text/x-python",
   "name": "python",
   "nbconvert_exporter": "python",
   "pygments_lexer": "ipython3",
   "version": "3.6.7"
  }
 },
 "nbformat": 4,
 "nbformat_minor": 2
}
