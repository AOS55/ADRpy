{
 "cells": [
  {
   "cell_type": "markdown",
   "metadata": {},
   "source": [
    "# Scaling an aircraft concept with ADRpy - the climb constraint"
   ]
  },
  {
   "cell_type": "markdown",
   "metadata": {},
   "source": [
    "<img src=\"https://github.com/sobester/ADRpy/raw/master/docs/ADRpy/img/climb.png\" width=\"45%\" align=\"left\">\n",
    "Simplified sketch of forces acting on an aircraft in the climb (background image of a Lockheed Martin F-22 Raptor courtesy of the US Air Force)."
   ]
  },
  {
   "cell_type": "markdown",
   "metadata": {},
   "source": [
    "### Fundamental concepts"
   ]
  },
  {
   "cell_type": "markdown",
   "metadata": {},
   "source": [
    "**Climb angle** $\\theta$ - the angle between the horizontal and the tangent to the flightpath of (the centre of gravity of) the aircraft. Positive for climbing flight, negative for descents."
   ]
  },
  {
   "cell_type": "markdown",
   "metadata": {},
   "source": [
    "**Climb gradient** - usually expressed in percentage = $100\\times\\tan\\theta$"
   ]
  },
  {
   "cell_type": "markdown",
   "metadata": {},
   "source": [
    "**Angle of attack** ($\\alpha$) - if the airframe reference we use is the wing chord, then this is the angle of attack of the wing (if a fuselage reference is used, then the setting angle of the wing must be taken into account)."
   ]
  },
  {
   "cell_type": "markdown",
   "metadata": {},
   "source": [
    "**Rate of climb** (RoC) is the vertical component of the true airspeed $V$, so RoC = $V\\sin\\theta$ = $\\frac{\\mathrm{d}h}{\\mathrm{d}t}$."
   ]
  },
  {
   "cell_type": "markdown",
   "metadata": {},
   "source": [
    "**The inertial effect of density lapse** If the aircraft climbs at a constant indicated airspeed (or constant calibrated airspeed, in practice), its true airspeed (which is what matters from the point of view of the acceleration term in Newton's second law) will increase as the ambient density drops along its ascending path [example from *Jet Transport Performance Models (Boeing)*: over the first 1000 feet of a climb at sea level 150KIAS, the true airspeed will have increased by 4KTAS]. The resulting inertial term can be written, in the direction of the airspeed vector V, as:"
   ]
  },
  {
   "cell_type": "markdown",
   "metadata": {},
   "source": [
    "$$ma = \\frac{W}{g}\\frac {\\mathrm{d}V}  {\\mathrm{d}t}$$"
   ]
  },
  {
   "cell_type": "markdown",
   "metadata": {},
   "source": [
    "where $m$ and $W$ are the mass and weight of the aircraft respectively."
   ]
  },
  {
   "cell_type": "markdown",
   "metadata": {},
   "source": [
    "**The inertial effect of angle of climb variation** Along with the true airspeed, in the most general case, the angle of climb $\\theta$ may vary during the climb too. In other words, the direction of the true velocity vector $\\overrightarrow{V}$, along which we considered the inertial term above, may itself, be changing. This turns the trajectory into a curve. Approximating this curve as a circular arc, we can think of the force changing the climb gradient as a centripetal force $mr\\omega^2$, where $\\omega$ is the angular velocity, which is also the rate of change of the angle of the tangent to the trajectory, so $\\omega = \\mathrm{d}\\theta / \\mathrm{d}t$. Since the true airspeed $V=r\\omega$, the centripetal force can be written as:"
   ]
  },
  {
   "cell_type": "markdown",
   "metadata": {},
   "source": [
    "$$mV\\omega = \\frac{W}{g}V\\frac{\\mathrm{d}\\theta}{\\mathrm{d}t}$$"
   ]
  },
  {
   "cell_type": "markdown",
   "metadata": {},
   "source": [
    "### T/W required for sustaining a given rate of climb"
   ]
  },
  {
   "cell_type": "markdown",
   "metadata": {},
   "source": [
    "#### Perpendicular to the flight path"
   ]
  },
  {
   "cell_type": "markdown",
   "metadata": {},
   "source": [
    "Projecting $F = ma$ onto the $z$ axis (perpendicular to the flight path):"
   ]
  },
  {
   "cell_type": "markdown",
   "metadata": {},
   "source": [
    "$$\\underbrace{L-W\\cos{\\theta}+T\\sin\\alpha}_{\\textbf{z-components of lift, weight and thrust}} = \\overbrace{-\\frac{W}{g}V\\frac {\\mathrm{d}\\theta}{\\mathrm{d}t}}^{\\textbf{mass}\\,\\times\\,\\textbf{acc. due to climb angle change}} $$"
   ]
  },
  {
   "cell_type": "markdown",
   "metadata": {},
   "source": [
    "A possible shortcut at this stage, if a 'clean' analytical solution is desired, is that, since for the angles of attack $\\alpha$ typical of a steady state climb $\\sin\\alpha <0.1$, we drop the $\\sin$ term altogether:"
   ]
  },
  {
   "cell_type": "markdown",
   "metadata": {},
   "source": [
    "$$L-W\\cos{\\theta} = -\\frac{W}{g}V\\frac {\\mathrm{d}\\theta}{\\mathrm{d}t}$$"
   ]
  },
  {
   "cell_type": "markdown",
   "metadata": {},
   "source": [
    "Further, if we assume that the time derivative of the climb angle is negligible (so the right hand side of the equation above is zero), the lift equation can be written as:"
   ]
  },
  {
   "cell_type": "markdown",
   "metadata": {},
   "source": [
    "$$L = W\\cos\\theta = qSC_\\mathrm{L}.$$"
   ]
  },
  {
   "cell_type": "markdown",
   "metadata": {},
   "source": [
    "Assuming a parabolic drag polar, we write the total drag as:"
   ]
  },
  {
   "cell_type": "markdown",
   "metadata": {},
   "source": [
    "$$D = qS\\left[C_{\\mathrm{D}\\mathrm{min}}+C_\\mathrm{ind}\\right] = qS\\left[C_{\\mathrm{D}\\mathrm{min}}+kC_\\mathrm{L}^2\\right]$$"
   ]
  },
  {
   "cell_type": "markdown",
   "metadata": {},
   "source": [
    "and we insert the lift coefficient from the $z$ component climb equation derived above: "
   ]
  },
  {
   "cell_type": "markdown",
   "metadata": {},
   "source": [
    "$$D = qS\\left[C_{\\mathrm{D}\\mathrm{min}}+k\\left(\\frac{W \\cos\\,\\theta}{qS}\\right)^2\\right]= \\\\=qSC_{\\mathrm{D}\\mathrm{min}} +k\\frac{W^2 \\cos^2\\theta}{qS}\\\\= qSC_{\\mathrm{D}\\mathrm{min}} +\\frac{k}{q}\\left(\\frac{W}{S}\\right)W \\cos^2\\theta$$"
   ]
  },
  {
   "cell_type": "markdown",
   "metadata": {},
   "source": [
    "#### Along the flight path"
   ]
  },
  {
   "cell_type": "markdown",
   "metadata": {},
   "source": [
    "Projecting the climb forces onto the $x$ (trajectory tangent) axis:"
   ]
  },
  {
   "cell_type": "markdown",
   "metadata": {},
   "source": [
    "$$-D-W\\sin\\theta+T=\\overbrace{\\frac{W}{g}\\frac{\\mathrm{d}V}{\\mathrm{d}t}}^{\\textbf{mass}\\,\\times\\,\\textbf{acc. due to true airspeed change}}$$"
   ]
  },
  {
   "cell_type": "markdown",
   "metadata": {},
   "source": [
    "Dividing each side by $W$ we obtain:"
   ]
  },
  {
   "cell_type": "markdown",
   "metadata": {},
   "source": [
    "$$\\frac{1}{W}\\left( -D-W\\sin\\theta+T  \\right)=\\frac{1}{g}\\frac{\\mathrm{d}V}{\\mathrm{d}t}$$"
   ]
  },
  {
   "cell_type": "markdown",
   "metadata": {},
   "source": [
    "We can express the sine of the climb angle from here:"
   ]
  },
  {
   "cell_type": "markdown",
   "metadata": {},
   "source": [
    "$$\\sin\\theta = \\frac{T}{W}-\\frac{D}{W} - \\frac{1}{g}\\frac{\\mathrm{d}V}{\\mathrm{d}t}.$$"
   ]
  },
  {
   "cell_type": "markdown",
   "metadata": {},
   "source": [
    "We rewrite the vertical acceleration term, using the chain rule, as: "
   ]
  },
  {
   "cell_type": "markdown",
   "metadata": {},
   "source": [
    "$$\\frac{\\mathrm{d}V}{\\mathrm{d}t} = \\frac{\\mathrm{d}V}{\\mathrm{d}h} \\frac{\\mathrm{d}h}{\\mathrm{d}t}$$"
   ]
  },
  {
   "cell_type": "markdown",
   "metadata": {},
   "source": [
    "where $h$ is the geopotential altitude. The climb rate $\\frac{\\mathrm{d}h}{\\mathrm{d}t} = V\\sin\\theta$ and thus"
   ]
  },
  {
   "cell_type": "markdown",
   "metadata": {},
   "source": [
    "$$\\sin\\theta = \\frac{T}{W}-\\frac{D}{W} - \\frac{1}{g}\\frac{\\mathrm{d}V}{\\mathrm{d}h}V\\sin\\theta.$$"
   ]
  },
  {
   "cell_type": "markdown",
   "metadata": {},
   "source": [
    "Rearranging, we obtain:"
   ]
  },
  {
   "cell_type": "markdown",
   "metadata": {},
   "source": [
    "$$\\sin\\theta\\left(1+ \\frac{V}{g}\\frac{\\mathrm{d}V}{\\mathrm{d}h}\\right) = \\frac{T}{W}-\\frac{D}{W} $$"
   ]
  },
  {
   "cell_type": "markdown",
   "metadata": {},
   "source": [
    "Inserting the drag expression derived above:"
   ]
  },
  {
   "cell_type": "markdown",
   "metadata": {},
   "source": [
    "$$\\sin\\theta\\left(1+ \\frac{V}{g}\\frac{\\mathrm{d}V}{\\mathrm{d}h}\\right) = \\frac{T}{W}-\\frac{qSC_{\\mathrm{D}\\mathrm{min}} +\\frac{k}{q}\\left(\\frac{W}{S}\\right)W\\cos^2\\theta}{W}$$"
   ]
  },
  {
   "cell_type": "markdown",
   "metadata": {},
   "source": [
    "$$\\sin\\theta\\left(1+ \\frac{V}{g}\\frac{\\mathrm{d}V}{\\mathrm{d}h}\\right)   = \\frac{T}{W}-\\frac{qC_\\mathrm{Dmin}}{\\left(W/S\\right)} -\\frac{k}{q}\\left(\\frac{W}{S}\\right)\\cos^2\\theta$$"
   ]
  },
  {
   "cell_type": "markdown",
   "metadata": {},
   "source": [
    "The second term on the left-hand side of the equation is sometimes referred to as the *acceleration factor*:"
   ]
  },
  {
   "cell_type": "markdown",
   "metadata": {},
   "source": [
    "$$K_\\mathrm{a} = 1+ \\frac{V}{g}\\frac{\\mathrm{d}V}{\\mathrm{d}h}$$"
   ]
  },
  {
   "cell_type": "markdown",
   "metadata": {},
   "source": [
    "Thus:"
   ]
  },
  {
   "cell_type": "markdown",
   "metadata": {},
   "source": [
    "$$K_\\mathrm{a}\\sin\\theta = \\frac{T}{W}-\\frac{qC_\\mathrm{Dmin}}{\\left(W/S\\right)} -\\frac{k}{q}\\left(\\frac{W}{S}\\right)\\cos^2\\theta$$"
   ]
  },
  {
   "cell_type": "markdown",
   "metadata": {},
   "source": [
    "and from here the thrust to weight ratio required can be expressed as:"
   ]
  },
  {
   "cell_type": "markdown",
   "metadata": {},
   "source": [
    "$$\\frac{T}{W} = \\frac{qC_\\mathrm{Dmin}}{\\left(W/S\\right)}+ \\frac{k}{q}\\left(\\frac{W}{S}\\right)\\cos^2\\theta + K_\\mathrm{a}\\sin\\theta$$"
   ]
  },
  {
   "cell_type": "markdown",
   "metadata": {},
   "source": [
    "or, in terms of the rate of climb RoC (= $V\\sin\\theta$):"
   ]
  },
  {
   "cell_type": "markdown",
   "metadata": {},
   "source": [
    "$$\\frac{T}{W} = \\frac{qC_\\mathrm{Dmin}}{\\left(W/S\\right)}+ \\frac{k}{q}\\left(\\frac{W}{S}\\right)\\cos^2\\theta + K_\\mathrm{a}\\frac{\\mathrm{RoC}}{V}$$"
   ]
  },
  {
   "cell_type": "markdown",
   "metadata": {},
   "source": [
    "For a rapid, first order estimate, we could assume a shallow climb, that is, $\\cos^2\\theta\\approx1$ and $\\mathrm{d}V/\\mathrm{d}h\\approx0$, so $K_a=1$, in which case:"
   ]
  },
  {
   "cell_type": "markdown",
   "metadata": {},
   "source": [
    "$$\\frac{T}{W} \\approx \\frac{qC_\\mathrm{Dmin}}{\\left(W/S\\right)}+ \\frac{k}{q}\\left(\\frac{W}{S}\\right) + \\frac{\\mathrm{RoC}}{V}$$"
   ]
  },
  {
   "cell_type": "markdown",
   "metadata": {},
   "source": [
    "Returning to the full equation, since $\\cos^2\\theta = 1 - \\sin^2\\theta = 1 - \\left(\\frac{\\mathrm{RoC}}{V}\\right)^2$, we can write:"
   ]
  },
  {
   "cell_type": "markdown",
   "metadata": {},
   "source": [
    "$$\\frac{T}{W} = \\frac{qC_\\mathrm{Dmin}}{\\left(W/S\\right)}+ \\frac{k}{q}\\left(\\frac{W}{S}\\right)\\left[1 - \\left(\\frac{\\mathrm{RoC}}{V}\\right)^2\\right] + K_\\mathrm{a}\\frac{\\mathrm{RoC}}{V}$$"
   ]
  },
  {
   "cell_type": "markdown",
   "metadata": {
    "collapsed": true
   },
   "source": [
    "There are two tricky-to-estimate items here. One is $C_\\mathrm{Dmin}$, the zero lift drag in the climb configuration (we shall assume here that this is the clean configuration, that is gears up and high lift devices up). The other is $V$, the climb speed. Technically this should be the best rate of climb speed, but at this point in the design process we don't really know that. For both we therefore need to look at historical data, if available, and use suitable error margins around our estimated values. Also, for an initial climb constraint the typical sub-10,000 feet speed limit (introduced for air traffic management reasons) of 250 knots should be seen as an upper limit to $V$. "
   ]
  },
  {
   "cell_type": "markdown",
   "metadata": {},
   "source": [
    "### An example - climb performance of a business jet"
   ]
  },
  {
   "cell_type": "markdown",
   "metadata": {},
   "source": [
    "Let us consider the climb requirements of the business jet discussed in the take-off constraint notebook. In the climb section of the design brief we shall specify the required rate of climb, the climb speed and the altitude at which we would like this requirement to be satisfied. "
   ]
  },
  {
   "cell_type": "code",
   "execution_count": 1,
   "metadata": {
    "collapsed": true
   },
   "outputs": [],
   "source": [
    "import numpy as np\n",
    "import matplotlib.pyplot as plt\n",
    "from ADRpy import unitconversions as co\n",
    "from ADRpy import constraintanalysis as ca\n",
    "from ADRpy import atmospheres as at"
   ]
  },
  {
   "cell_type": "code",
   "execution_count": 2,
   "metadata": {
    "collapsed": true
   },
   "outputs": [],
   "source": [
    "designbrief = {'climbalt_m': 1000, 'climbspeed_kias': 250, 'climbrate_fpm': 1000}\n",
    "designdefinition = {'aspectratio':7.3, 'sweep_le_deg':10, 'sweep_mt_deg':8, 'bpr':3.9, 'tr':1.05} \n",
    "designperformance = {'CDTO':0.04, 'CLTO':0.9, 'CLmaxTO':1.6, 'mu_R':0.02, 'CDminclean':0.02}\n",
    "\n",
    "designatm = at.Atmosphere()\n",
    "\n",
    "concept = ca.AircraftConcept(designbrief, designdefinition, designperformance, designatm)"
   ]
  },
  {
   "cell_type": "code",
   "execution_count": 3,
   "metadata": {
    "collapsed": true
   },
   "outputs": [],
   "source": [
    "wingloadinglist_pa = np.arange(2000, 5000, 10)"
   ]
  },
  {
   "cell_type": "code",
   "execution_count": 4,
   "metadata": {
    "collapsed": true
   },
   "outputs": [],
   "source": [
    "twratio = concept.twrequired_clm(wingloadinglist_pa)"
   ]
  },
  {
   "cell_type": "code",
   "execution_count": 5,
   "metadata": {},
   "outputs": [
    {
     "data": {
      "image/png": "[encoded data removed]",
      "text/plain": [
       "<matplotlib.figure.Figure at 0x112f7be80>"
      ]
     },
     "metadata": {},
     "output_type": "display_data"
    }
   ],
   "source": [
    "plt.plot(wingloadinglist_pa, twratio)\n",
    "plt.ylabel(\"T/W ( )\")\n",
    "plt.xlabel(\"W/S (N/m$^2$)\")\n",
    "plt.title(\"Minimum thrust to weight ratio required\")\n",
    "plt.grid(True)\n",
    "plt.show()"
   ]
  },
  {
   "cell_type": "markdown",
   "metadata": {},
   "source": [
    "### Quantifying uncertainties in climb calculations"
   ]
  },
  {
   "cell_type": "markdown",
   "metadata": {},
   "source": [
    "We shall follow the uncertainty quantification approach introduced in the take-off constraint notebook. Each iteration of the following loop draws a different random value (from a suitable distribution) to be assigned to elements of the design, one performance estimate (zero lift drag) and one environmental variable (the ISA offset). We leave the design brief fixed."
   ]
  },
  {
   "cell_type": "code",
   "execution_count": 6,
   "metadata": {
    "collapsed": true
   },
   "outputs": [],
   "source": [
    "designbrief = {'rwyelevation_m':1000, 'groundrun_m':1200, \\\n",
    "               'stloadfactor': 2, 'turnalt_m': 5000, 'turnspeed_ktas': 300, \\\n",
    "               'climbalt_m': 1000, 'climbspeed_kias': 250, 'climbrate_fpm': 1000}\n",
    "\n",
    "twmatrix = []\n",
    "wingloadinglist_pa = np.arange(2000, 5000, 10)\n",
    "mc_samplesize = 5000\n",
    "\n",
    "for i in range(1, mc_samplesize):\n",
    "\n",
    "    ar = np.random.uniform(6.5, 9)\n",
    "    bpr = max(5, np.random.normal(8, 1))\n",
    "    tr = np.random.uniform(1.04, 1.08)\n",
    "\n",
    "    sle_deg = np.random.normal(17, 3)\n",
    "    smt_deg = sle_deg - np.random.normal(7, 3)\n",
    "    \n",
    "    offs_deg = np.random.normal(15, 15)\n",
    "    \n",
    "    cdmin = np.random.normal(0.02, 0.002)\n",
    "    \n",
    "    designdefinition = {'aspectratio':ar, 'sweep_le_deg':sle_deg, 'sweep_mt_deg':smt_deg, 'bpr':bpr, 'tr':tr} \n",
    "    designperformance = {'CDminclean':cdmin}\n",
    "    designatm = at.Atmosphere(offset_deg=offs_deg, profile=None)\n",
    "\n",
    "    concept = ca.AircraftConcept(designbrief, designdefinition, designperformance, designatm)\n",
    "    tw_sl = concept.twrequired_clm(wingloadinglist_pa)\n",
    "    \n",
    "    if np.size(twmatrix) > 0:\n",
    "        twmatrix = np.vstack((twmatrix,tw_sl))\n",
    "    else:\n",
    "        twmatrix = tw_sl"
   ]
  },
  {
   "cell_type": "markdown",
   "metadata": {},
   "source": [
    "We can now use the stack of required T/W vectors to calculate feasible percentiles on each:"
   ]
  },
  {
   "cell_type": "code",
   "execution_count": 7,
   "metadata": {},
   "outputs": [
    {
     "data": {
      "image/png": "[encoded data removed]",
      "text/plain": [
       "<matplotlib.figure.Figure at 0x112f8c518>"
      ]
     },
     "metadata": {},
     "output_type": "display_data"
    }
   ],
   "source": [
    "for feasible_percentile in [50, 60, 70, 80, 90, 95, 99]:\n",
    "    percentile_tw = np.percentile(twmatrix, feasible_percentile, axis=0)\n",
    "    plt.plot(wingloadinglist_pa, percentile_tw, label = str(feasible_percentile)+' percentile')\n",
    "\n",
    "legend = plt.legend(loc='upper left')\n",
    "plt.ylabel(\"T/W ( )\")\n",
    "plt.xlabel(\"W/S (N/m$^2$)\")\n",
    "plt.title(\"Minimum thrust to weight ratio required\")\n",
    "plt.grid(True)\n",
    "plt.show()"
   ]
  },
  {
   "cell_type": "code",
   "execution_count": null,
   "metadata": {
    "collapsed": true
   },
   "outputs": [],
   "source": []
  }
 ],
 "metadata": {
  "anaconda-cloud": {},
  "kernelspec": {
   "display_name": "Python 3",
   "language": "python",
   "name": "python3"
  },
  "language_info": {
   "codemirror_mode": {
    "name": "ipython",
    "version": 3
   },
   "file_extension": ".py",
   "mimetype": "text/x-python",
   "name": "python",
   "nbconvert_exporter": "python",
   "pygments_lexer": "ipython3",
   "version": "3.6.7"
  }
 },
 "nbformat": 4,
 "nbformat_minor": 2
}
